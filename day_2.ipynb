{
  "nbformat": 4,
  "nbformat_minor": 0,
  "metadata": {
    "colab": {
      "provenance": [],
      "authorship_tag": "ABX9TyO7sa5csGaSpjO4CF00psH3",
      "include_colab_link": true
    },
    "kernelspec": {
      "name": "python3",
      "display_name": "Python 3"
    },
    "language_info": {
      "name": "python"
    }
  },
  "cells": [
    {
      "cell_type": "markdown",
      "metadata": {
        "id": "view-in-github",
        "colab_type": "text"
      },
      "source": [
        "<a href=\"https://colab.research.google.com/github/harsha04h/BASIC-PYTHON/blob/main/day_2.ipynb\" target=\"_parent\"><img src=\"https://colab.research.google.com/assets/colab-badge.svg\" alt=\"Open In Colab\"/></a>"
      ]
    },
    {
      "cell_type": "code",
      "execution_count": null,
      "metadata": {
        "colab": {
          "base_uri": "https://localhost:8080/"
        },
        "id": "cRS1QSCXOJxD",
        "outputId": "6c14324c-e107-43e6-a5e7-5a1801557ae5"
      },
      "outputs": [
        {
          "output_type": "stream",
          "name": "stdout",
          "text": [
            "hello everyone!\n"
          ]
        }
      ],
      "source": [
        "print(\"hello everyone!\")"
      ]
    },
    {
      "cell_type": "code",
      "source": [
        "'''first day of python\n",
        "second day of python'''\n",
        "name = \"HARSHA\"\n",
        "age = 18\n",
        "print(name)\n",
        "print(age)"
      ],
      "metadata": {
        "colab": {
          "base_uri": "https://localhost:8080/"
        },
        "id": "RetlOth4RN4z",
        "outputId": "137907cb-7bc7-4009-dfda-1611b3d929a4"
      },
      "execution_count": null,
      "outputs": [
        {
          "output_type": "stream",
          "name": "stdout",
          "text": [
            "HARSHA\n",
            "18\n"
          ]
        }
      ]
    },
    {
      "cell_type": "code",
      "source": [
        "#printing multiple values\n",
        "name=\"harsha\"\n",
        "age=18\n",
        "print(\"name:\",name,\"age:\",age)\n",
        "print(\"name:\",name)\n",
        "print(\"age:\",age)"
      ],
      "metadata": {
        "colab": {
          "base_uri": "https://localhost:8080/"
        },
        "id": "_O2xtZ-FSaii",
        "outputId": "5e9d8696-c162-45f4-8f0e-c9ff2d229a88"
      },
      "execution_count": null,
      "outputs": [
        {
          "output_type": "stream",
          "name": "stdout",
          "text": [
            "name: harsha age: 18\n",
            "name: harsha\n",
            "age: 18\n"
          ]
        }
      ]
    },
    {
      "cell_type": "code",
      "source": [
        "#using f-strings (formatted string literals)\n",
        "name=\"harsha\"\n",
        "age=18\n",
        "print(f\"name:{name}, age:{age}\")"
      ],
      "metadata": {
        "colab": {
          "base_uri": "https://localhost:8080/"
        },
        "id": "Gc8nSAHyTm9v",
        "outputId": "bd7c9e75-6b2c-4063-adef-b62374aa9dd3"
      },
      "execution_count": null,
      "outputs": [
        {
          "output_type": "stream",
          "name": "stdout",
          "text": [
            "name:harsha, age:18\n"
          ]
        }
      ]
    },
    {
      "cell_type": "code",
      "source": [
        "#using .format() method\n",
        "name=\"harsha\"\n",
        "age=18\n",
        "print(\"name:{}, age:{}\".format(name,age))"
      ],
      "metadata": {
        "colab": {
          "base_uri": "https://localhost:8080/"
        },
        "id": "zyahapZ5WIuA",
        "outputId": "0a503ab7-1136-41a3-9001-379e5495d981"
      },
      "execution_count": null,
      "outputs": [
        {
          "output_type": "stream",
          "name": "stdout",
          "text": [
            "name:harsha, age:18\n"
          ]
        }
      ]
    },
    {
      "cell_type": "code",
      "source": [
        "#using string concatenation\n",
        "name=\"harsha\"\n",
        "print(\"hello,\"+name+\"!\")"
      ],
      "metadata": {
        "colab": {
          "base_uri": "https://localhost:8080/"
        },
        "id": "x1743WahXSQQ",
        "outputId": "20a069dc-3e6b-46bc-f274-16ace55f9cfb"
      },
      "execution_count": null,
      "outputs": [
        {
          "output_type": "stream",
          "name": "stdout",
          "text": [
            "hello,harsha hari\n"
          ]
        }
      ]
    },
    {
      "cell_type": "code",
      "source": [
        "#printing formatted numbers\n",
        "number = 20456.12345\n",
        "print(f\"formatted number: {number:.3f}\")\n",
        "number2 = 123.9876\n",
        "print(f\"formatted number: {number2:.2f}\")"
      ],
      "metadata": {
        "colab": {
          "base_uri": "https://localhost:8080/"
        },
        "id": "wQhabq5DUYjo",
        "outputId": "c46fd11f-abed-4cb2-f877-4d55ce958ea7"
      },
      "execution_count": null,
      "outputs": [
        {
          "output_type": "stream",
          "name": "stdout",
          "text": [
            "formatted number: 20456.123\n",
            "formatted number: 123.99\n"
          ]
        }
      ]
    },
    {
      "cell_type": "code",
      "source": [
        "#using sep  parameter\n",
        "print(\"apple\",\"banana\", sep=\",\")\n",
        "print(\"apple\",\"banana\", sep=\"-\")"
      ],
      "metadata": {
        "colab": {
          "base_uri": "https://localhost:8080/"
        },
        "id": "EILQ_V8gZM5S",
        "outputId": "64612e22-8c82-422d-fce7-fd01e24f6833"
      },
      "execution_count": null,
      "outputs": [
        {
          "output_type": "stream",
          "name": "stdout",
          "text": [
            "apple,banana\n",
            "apple-banana\n"
          ]
        }
      ]
    },
    {
      "cell_type": "code",
      "source": [
        "#using end parameter\n",
        "print(\"hello\",end=\" \")\n",
        "print(\"world!\")"
      ],
      "metadata": {
        "colab": {
          "base_uri": "https://localhost:8080/"
        },
        "id": "9qM-zXLJZ318",
        "outputId": "50282ce1-380c-470d-f9bc-fea6d023b410"
      },
      "execution_count": null,
      "outputs": [
        {
          "output_type": "stream",
          "name": "stdout",
          "text": [
            "hello world!\n"
          ]
        }
      ]
    },
    {
      "cell_type": "code",
      "source": [
        "#printing escape sequences\n",
        "print(\"hello everyone!\\nI am harsha\")#newline"
      ],
      "metadata": {
        "colab": {
          "base_uri": "https://localhost:8080/"
        },
        "id": "2GXzID6raZQR",
        "outputId": "a2609f8d-3d83-4c1a-be4d-528d755cb5fb"
      },
      "execution_count": null,
      "outputs": [
        {
          "output_type": "stream",
          "name": "stdout",
          "text": [
            "hello everyone!\n",
            "I am harsha\n"
          ]
        }
      ]
    },
    {
      "cell_type": "markdown",
      "source": [
        "#SLICING"
      ],
      "metadata": {
        "id": "FmQlF_A34BNG"
      }
    },
    {
      "cell_type": "code",
      "source": [
        "a=[0,1,2,3,4,5,6,7,8,9]\n",
        "print(a[1:6])\n",
        "print(a[-6:-1])\n",
        "print(a[3:])\n",
        "print(a[:3])\n",
        "print(a[1:8:3])"
      ],
      "metadata": {
        "colab": {
          "base_uri": "https://localhost:8080/"
        },
        "id": "PJU1O4QV2cIB",
        "outputId": "c6eeeebf-60c6-4354-8b81-9cc4a223e3b3"
      },
      "execution_count": null,
      "outputs": [
        {
          "output_type": "stream",
          "name": "stdout",
          "text": [
            "[1, 2, 3, 4, 5]\n",
            "[4, 5, 6, 7, 8]\n",
            "[3, 4, 5, 6, 7, 8, 9]\n",
            "[0, 1, 2]\n",
            "[1, 4, 7]\n"
          ]
        }
      ]
    },
    {
      "cell_type": "code",
      "source": [
        "a=[\"cherry\",4,5,\"apple\",6]\n",
        "print(a)\n",
        "print(a[1:2])"
      ],
      "metadata": {
        "colab": {
          "base_uri": "https://localhost:8080/"
        },
        "id": "doOO7PKc4AWm",
        "outputId": "f48aa726-1d4e-4dbf-e1b8-d822bf564c81"
      },
      "execution_count": null,
      "outputs": [
        {
          "output_type": "stream",
          "name": "stdout",
          "text": [
            "['cherry', 4, 5, 'apple', 6]\n",
            "[4]\n"
          ]
        }
      ]
    },
    {
      "cell_type": "markdown",
      "source": [
        "**IMPLICIT CONVERSION**"
      ],
      "metadata": {
        "id": "peF-EurN_h4r"
      }
    },
    {
      "cell_type": "code",
      "source": [
        "a=10\n",
        "b=5\n",
        "c=a+b\n",
        "print(c)\n",
        "print(float(c))"
      ],
      "metadata": {
        "colab": {
          "base_uri": "https://localhost:8080/"
        },
        "id": "aTrfsDlF_mJq",
        "outputId": "1ea2e146-0c0f-4868-9f14-a9c28ea22e53"
      },
      "execution_count": null,
      "outputs": [
        {
          "output_type": "stream",
          "name": "stdout",
          "text": [
            "15\n",
            "15.0\n"
          ]
        }
      ]
    },
    {
      "cell_type": "code",
      "source": [
        "a=\"10\"\n",
        "b=12\n",
        "c= int(a)+b\n",
        "print(c)"
      ],
      "metadata": {
        "colab": {
          "base_uri": "https://localhost:8080/"
        },
        "id": "dItT_G8JAWQz",
        "outputId": "266065aa-fd34-4f64-b9db-d61b7bdedaec"
      },
      "execution_count": null,
      "outputs": [
        {
          "output_type": "stream",
          "name": "stdout",
          "text": [
            "22\n"
          ]
        }
      ]
    },
    {
      "cell_type": "markdown",
      "source": [
        "**ARITHEMATIC OPERATIONS**"
      ],
      "metadata": {
        "id": "sk7GvW15CEc4"
      }
    },
    {
      "cell_type": "code",
      "source": [
        "print(5+3)\n",
        "print(5-3)\n",
        "print(5*3)\n",
        "print(5/3)  # / -division\n",
        "print(5%3)  # % -remainder\n",
        "print(5**3) # ** -exponentiation\n",
        "print(5//3) # // -floor division(quotient/decimal value 5/3 mai nhi ayega)"
      ],
      "metadata": {
        "colab": {
          "base_uri": "https://localhost:8080/"
        },
        "id": "TBsjfS9ACIcH",
        "outputId": "39a7d8fc-389e-4518-c3c5-2738e00fcdc6"
      },
      "execution_count": null,
      "outputs": [
        {
          "output_type": "stream",
          "name": "stdout",
          "text": [
            "8\n",
            "2\n",
            "15\n",
            "1.6666666666666667\n",
            "2\n",
            "125\n",
            "1\n"
          ]
        }
      ]
    },
    {
      "cell_type": "markdown",
      "source": [
        "**COMPARISON OPERATORS**"
      ],
      "metadata": {
        "id": "HsLh9JWjDqwf"
      }
    },
    {
      "cell_type": "code",
      "source": [
        "print(5==3)\n",
        "print(5!=3)\n",
        "print(5>3)\n",
        "print(5<3)\n",
        "print(5>=3)\n",
        "print(5<=3)\n",
        "print(5==5)\n",
        "print(5>=5)"
      ],
      "metadata": {
        "colab": {
          "base_uri": "https://localhost:8080/"
        },
        "id": "7Hj8R25YDut-",
        "outputId": "39ed23aa-6b13-452b-f1b8-9e65d50ade40"
      },
      "execution_count": null,
      "outputs": [
        {
          "output_type": "stream",
          "name": "stdout",
          "text": [
            "False\n",
            "True\n",
            "True\n",
            "False\n",
            "True\n",
            "False\n",
            "True\n",
            "True\n"
          ]
        }
      ]
    },
    {
      "cell_type": "markdown",
      "source": [
        "**LOGICAL OPERATOR**"
      ],
      "metadata": {
        "id": "DRG0Trc-FQQu"
      }
    },
    {
      "cell_type": "code",
      "source": [
        "x=True\n",
        "y=False\n",
        "print(x and y)\n",
        "print(x or y)\n",
        "print(not x)"
      ],
      "metadata": {
        "colab": {
          "base_uri": "https://localhost:8080/"
        },
        "id": "IYx_QK9RFZLf",
        "outputId": "49186570-9887-4aca-ea2d-66d472a7936e"
      },
      "execution_count": null,
      "outputs": [
        {
          "output_type": "stream",
          "name": "stdout",
          "text": [
            "False\n",
            "True\n",
            "False\n"
          ]
        }
      ]
    },
    {
      "cell_type": "markdown",
      "source": [
        "**BITWISE OPERATOR**\n",
        "*   AND- &\n",
        "*   OR- |\n",
        "*   XOR - ^\n",
        "*   NOT - ~\n",
        "*   LEFT SHIFT - <<\n",
        "*   RIGHT SHIFT ->>\n",
        "\n",
        "\n",
        "\n",
        "\n",
        "\n"
      ],
      "metadata": {
        "id": "V7zVKzyeGxJV"
      }
    },
    {
      "cell_type": "code",
      "source": [
        "print(5&3)\n",
        "print(5|3)\n",
        "print(5^3)\n",
        "print(~5)\n",
        "print(5<<1)\n",
        "print(5>>1)"
      ],
      "metadata": {
        "colab": {
          "base_uri": "https://localhost:8080/"
        },
        "id": "yXnBIRAlIZF0",
        "outputId": "0f5eb828-6866-4f8c-db62-a97428247fd6"
      },
      "execution_count": null,
      "outputs": [
        {
          "output_type": "stream",
          "name": "stdout",
          "text": [
            "1\n",
            "7\n",
            "6\n",
            "-6\n",
            "10\n",
            "2\n"
          ]
        }
      ]
    }
  ]
}