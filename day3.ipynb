{
  "nbformat": 4,
  "nbformat_minor": 0,
  "metadata": {
    "colab": {
      "provenance": [],
      "authorship_tag": "ABX9TyM5lcMpeLnoq3RdJ+0DQ6XL",
      "include_colab_link": true
    },
    "kernelspec": {
      "name": "python3",
      "display_name": "Python 3"
    },
    "language_info": {
      "name": "python"
    }
  },
  "cells": [
    {
      "cell_type": "markdown",
      "metadata": {
        "id": "view-in-github",
        "colab_type": "text"
      },
      "source": [
        "<a href=\"https://colab.research.google.com/github/harsha04h/BASIC-PYTHON/blob/main/day3.ipynb\" target=\"_parent\"><img src=\"https://colab.research.google.com/assets/colab-badge.svg\" alt=\"Open In Colab\"/></a>"
      ]
    },
    {
      "cell_type": "markdown",
      "source": [
        "**ASSIGNMENT OPERATOR**"
      ],
      "metadata": {
        "id": "uyH0XVVNM6dB"
      }
    },
    {
      "cell_type": "code",
      "execution_count": null,
      "metadata": {
        "colab": {
          "base_uri": "https://localhost:8080/"
        },
        "id": "ytk1fhgUMuob",
        "outputId": "680df7b4-008f-479f-f3a0-ccf04e106690"
      },
      "outputs": [
        {
          "output_type": "stream",
          "name": "stdout",
          "text": [
            "enter a number: 5\n",
            "8\n"
          ]
        }
      ],
      "source": [
        "x=int(input(\"enter a number: \"))\n",
        "x+=3\n",
        "print(x)"
      ]
    },
    {
      "cell_type": "code",
      "source": [
        "x=int(input(\"enter a number: \"))\n",
        "x -= 3\n",
        "print(\"x=\",x)"
      ],
      "metadata": {
        "colab": {
          "base_uri": "https://localhost:8080/"
        },
        "id": "c5avt1sgNCQp",
        "outputId": "f257e9e4-fff3-4cf8-9a08-8e5b955b4edd"
      },
      "execution_count": null,
      "outputs": [
        {
          "output_type": "stream",
          "name": "stdout",
          "text": [
            "enter a number: 5\n",
            "x= 2\n"
          ]
        }
      ]
    },
    {
      "cell_type": "code",
      "source": [
        "x=int(input(\"enter a number: \"))\n",
        "x*=3\n",
        "print(f\"x={x}\")"
      ],
      "metadata": {
        "colab": {
          "base_uri": "https://localhost:8080/"
        },
        "id": "YrdRkWtTNlUZ",
        "outputId": "90c6d577-9049-4d5a-ae27-4de71501e08f"
      },
      "execution_count": null,
      "outputs": [
        {
          "output_type": "stream",
          "name": "stdout",
          "text": [
            "enter a number: 5\n",
            "x=15\n"
          ]
        }
      ]
    },
    {
      "cell_type": "code",
      "source": [
        "x=int(input(\"enter a number: \"))\n",
        "x/=3\n",
        "print(f\"x={x:.2f}\")"
      ],
      "metadata": {
        "colab": {
          "base_uri": "https://localhost:8080/"
        },
        "id": "eOED7HZyNxhJ",
        "outputId": "504f7324-5112-44d3-ee44-8fc3c17c47db"
      },
      "execution_count": null,
      "outputs": [
        {
          "output_type": "stream",
          "name": "stdout",
          "text": [
            "enter a number: 5\n",
            "x=1.67\n"
          ]
        }
      ]
    },
    {
      "cell_type": "markdown",
      "source": [
        "**IDENTITY OPERATOR**"
      ],
      "metadata": {
        "id": "GYTmUpEcP3LK"
      }
    },
    {
      "cell_type": "code",
      "source": [
        "x=int(input(\"enter a numbre: \"))\n",
        "y=int(input(\"enter a number: \"))\n",
        "print(x is y)"
      ],
      "metadata": {
        "colab": {
          "base_uri": "https://localhost:8080/"
        },
        "id": "DxZTnro8P71Z",
        "outputId": "f819bc0f-354e-4bc6-c922-397eff57f57e"
      },
      "execution_count": null,
      "outputs": [
        {
          "output_type": "stream",
          "name": "stdout",
          "text": [
            "enter a numbre: 2\n",
            "enter a number: 2\n",
            "True\n"
          ]
        }
      ]
    },
    {
      "cell_type": "code",
      "source": [
        "x=int(input(\"enter a numbre: \"))\n",
        "y=int(input(\"enter a number: \"))\n",
        "print(x is not y)"
      ],
      "metadata": {
        "colab": {
          "base_uri": "https://localhost:8080/"
        },
        "id": "-b_mNJLdQfdX",
        "outputId": "58684c89-2942-4121-8385-20f50fc304ff"
      },
      "execution_count": null,
      "outputs": [
        {
          "output_type": "stream",
          "name": "stdout",
          "text": [
            "enter a numbre: 2\n",
            "enter a number: 2\n",
            "False\n"
          ]
        }
      ]
    },
    {
      "cell_type": "code",
      "source": [
        "a=[1,2,3]\n",
        "b=[1,2,3]\n",
        "c=a\n",
        "print(a is b)\n",
        "print(a is not b)\n",
        "print(a is c)\n",
        "print(c is a)\n",
        "print(id(a))\n",
        "print(id(b))\n",
        "print(id(c))"
      ],
      "metadata": {
        "colab": {
          "base_uri": "https://localhost:8080/"
        },
        "id": "24rGKRmlQoKm",
        "outputId": "2073ba51-751c-4423-ac10-746ca66b2093"
      },
      "execution_count": null,
      "outputs": [
        {
          "output_type": "stream",
          "name": "stdout",
          "text": [
            "False\n",
            "True\n",
            "True\n",
            "True\n",
            "139245260845824\n",
            "139245260837248\n",
            "139245260845824\n"
          ]
        }
      ]
    },
    {
      "cell_type": "code",
      "source": [
        "a=[1,2,3]\n",
        "b=[1,2,3]\n",
        "a=c\n",
        "print(a is b)\n",
        "print(a is not b)\n",
        "print(a is c)\n",
        "print(c is a)\n",
        "print(id(a))\n",
        "print(id(b))\n",
        "print(id(c))"
      ],
      "metadata": {
        "colab": {
          "base_uri": "https://localhost:8080/"
        },
        "id": "KUm5gq0TYrwr",
        "outputId": "7ef4ba85-7e5e-4bb2-98ce-48e162351319"
      },
      "execution_count": null,
      "outputs": [
        {
          "output_type": "stream",
          "name": "stdout",
          "text": [
            "False\n",
            "True\n",
            "True\n",
            "True\n",
            "139245260845824\n",
            "139244496335424\n",
            "139245260845824\n"
          ]
        }
      ]
    },
    {
      "cell_type": "markdown",
      "source": [
        "**MEMBERSHIP OPERATORS**"
      ],
      "metadata": {
        "id": "0DUe_GqaTID3"
      }
    },
    {
      "cell_type": "code",
      "source": [
        "fruits=[\"apple\",\"banana\",\"cherry\"]\n",
        "print(\"apple\" in fruits)\n",
        "print(\"grape\" in fruits)\n",
        "print(\"grape\" not in fruits)"
      ],
      "metadata": {
        "colab": {
          "base_uri": "https://localhost:8080/"
        },
        "id": "SIu3ePepTOdd",
        "outputId": "92f11138-1c20-473a-f83c-7f53ddb59941"
      },
      "execution_count": null,
      "outputs": [
        {
          "output_type": "stream",
          "name": "stdout",
          "text": [
            "True\n",
            "False\n",
            "True\n"
          ]
        }
      ]
    },
    {
      "cell_type": "code",
      "source": [
        "x=\"hello guys!\"\n",
        "print(\"hello\" in x)\n",
        "print(\"world\" not in x)\n",
        "print(\"world\" in x)"
      ],
      "metadata": {
        "colab": {
          "base_uri": "https://localhost:8080/"
        },
        "id": "yquOv17ATw9o",
        "outputId": "263e7a8e-d82d-4abe-ef7e-7cc8e88025c1"
      },
      "execution_count": null,
      "outputs": [
        {
          "output_type": "stream",
          "name": "stdout",
          "text": [
            "True\n",
            "True\n",
            "False\n"
          ]
        }
      ]
    },
    {
      "cell_type": "markdown",
      "source": [
        "**OPERATOR PRECEDENCE**"
      ],
      "metadata": {
        "id": "e_Io9V1-U-Fj"
      }
    },
    {
      "cell_type": "code",
      "source": [
        "X=(3+2)*2**2\n",
        "print(X)"
      ],
      "metadata": {
        "colab": {
          "base_uri": "https://localhost:8080/"
        },
        "id": "Zmz-94YeWIDT",
        "outputId": "5aabd254-cf2a-4cb4-cfd6-48f086604e36"
      },
      "execution_count": null,
      "outputs": [
        {
          "output_type": "stream",
          "name": "stdout",
          "text": [
            "20\n"
          ]
        }
      ]
    },
    {
      "cell_type": "markdown",
      "source": [
        "Q) WRITE A PROGRAM TO PRINT SUM OF TWO NUMBERS"
      ],
      "metadata": {
        "id": "CLXKfXrwZv8-"
      }
    },
    {
      "cell_type": "code",
      "source": [
        "x=int(input(\"enter the first number: \"))\n",
        "y=int(input(\"enter the second number: \"))\n",
        "sum=x+y\n",
        "print(sum)\n",
        "print(f\"sum of {x} and {y} is {x+y}\")\n",
        "print(f\"sum={sum}\")\n",
        "print(\"the sum of first number and second number is {}\".format(sum))\n",
        "print(\"the sum of {0} and {1} is {2}\".format(x,y,sum))"
      ],
      "metadata": {
        "colab": {
          "base_uri": "https://localhost:8080/"
        },
        "id": "Vy6UrOrIZu-3",
        "outputId": "c74e56fd-dcef-466c-ca24-749c131b188a"
      },
      "execution_count": null,
      "outputs": [
        {
          "output_type": "stream",
          "name": "stdout",
          "text": [
            "enter the first number: 450\n",
            "enter the second number: 60\n",
            "510\n",
            "sum of 450 and 60 is 510\n",
            "sum=510\n",
            "the sum of first number and second number is 510\n",
            "the sum of 450 and 60 is 510\n"
          ]
        }
      ]
    },
    {
      "cell_type": "markdown",
      "source": [
        "Q) WRITE A PROGRAM TO FIND SQAURE ROOT\n"
      ],
      "metadata": {
        "id": "JoAxNrcadxKO"
      }
    },
    {
      "cell_type": "code",
      "source": [
        "num=float(input(\"enter the number: \"))\n",
        "sqrt=num**0.5\n",
        "print(\"the square root of the no is. \",sqrt)\n",
        "print(f\"the square root of{num:.2f} is {sqrt:.2f}\")\n",
        "print(\"the square root of the number {0} is {1}\".format(num,sqrt))\n",
        "print(\"the sqaure root of %0.2f is %0.2f\"%(num,sqrt))"
      ],
      "metadata": {
        "colab": {
          "base_uri": "https://localhost:8080/"
        },
        "id": "f-8Jwulhd2Oe",
        "outputId": "4552e973-959d-441e-fc9a-b7ab8dd83cb1"
      },
      "execution_count": null,
      "outputs": [
        {
          "output_type": "stream",
          "name": "stdout",
          "text": [
            "enter the number: 2\n",
            "the square root of the no is.  1.4142135623730951\n",
            "the square root of2.00 is 1.41\n",
            "the square root of the number 2.0 is 1.4142135623730951\n",
            "the sqaure root of 2.00 is 1.41\n"
          ]
        }
      ]
    },
    {
      "cell_type": "markdown",
      "source": [
        "Q) WRITE A PROGRAM TO CALCULATE AREA OF TRIANGLE"
      ],
      "metadata": {
        "id": "dNLL3d0fireW"
      }
    },
    {
      "cell_type": "code",
      "source": [
        "a=float(input(\"enter the first side:\"))\n",
        "b=float(input(\"enter the second side:\"))\n",
        "c=float(input(\"enter the third side:\"))\n",
        "s=(a+b+c)/2\n",
        "area=(s*(s-a)*(s-b)*(s-c))**0.5\n",
        "print(\"the area of the triangle is %0.2f\"%area)\n",
        "print(f\"the area of the triangle is {area:.2f}\")\n",
        "print(\"the area of the triangle is {}\".format(area))"
      ],
      "metadata": {
        "colab": {
          "base_uri": "https://localhost:8080/"
        },
        "id": "-rd09iY6k-uc",
        "outputId": "372b326f-02a9-417e-8f0a-25a336d8e72b"
      },
      "execution_count": null,
      "outputs": [
        {
          "output_type": "stream",
          "name": "stdout",
          "text": [
            "enter the first side:30\n",
            "enter the second side:40\n",
            "enter the third side:50\n",
            "the area of the triangle is 600.00\n",
            "the area of the triangle is 600.00\n",
            "the area of the triangle is 600.0\n"
          ]
        }
      ]
    },
    {
      "cell_type": "markdown",
      "source": [
        "Q)WRITE A PROGRAM TO SOLVE QUADRATIC EQUATIONS"
      ],
      "metadata": {
        "id": "mn71NOldnHzc"
      }
    },
    {
      "cell_type": "code",
      "source": [
        "a=int(input(\"enter the value of a: \"))\n",
        "b=int(input(\"enter the value of b: \"))\n",
        "c=int(input(\"enter the value of c: \"))\n",
        "d=(b**2)-(4*a*c)\n",
        "sol1=(-b+(d**0.5))/2*a\n",
        "sol2=(-b-(d**0.5))/2*a\n",
        "print(\"the solutions are {} and {}\".format(sol1,sol2))\n",
        "print(f\"the solution for the equation is {sol1:.1f} and {sol2:.1f}\")"
      ],
      "metadata": {
        "colab": {
          "base_uri": "https://localhost:8080/"
        },
        "id": "cIhZxNT8nGs0",
        "outputId": "05b2fdb4-bf90-41d1-cc0d-90635c6de653"
      },
      "execution_count": null,
      "outputs": [
        {
          "output_type": "stream",
          "name": "stdout",
          "text": [
            "enter the value of a: 1\n",
            "enter the value of b: -5\n",
            "enter the value of c: 6\n",
            "the solutions are 3.0 and 2.0\n",
            "the solution for the equation is 3.0 and 2.0\n"
          ]
        }
      ]
    },
    {
      "cell_type": "code",
      "source": [
        "name=\"harsha\"\n",
        "age=18\n",
        "print(\"my name is %s and I am %d year old.\"%(name,age))"
      ],
      "metadata": {
        "colab": {
          "base_uri": "https://localhost:8080/"
        },
        "id": "EThiKxfOJNRT",
        "outputId": "36ab424d-c6a5-4d7b-cfa5-34d6981514c8"
      },
      "execution_count": null,
      "outputs": [
        {
          "output_type": "stream",
          "name": "stdout",
          "text": [
            "my name is harsha and I am 18 year old.\n"
          ]
        }
      ]
    },
    {
      "cell_type": "code",
      "source": [
        "list=[1,2,3,4]\n",
        "list[1]=\"hello\"\n",
        "print(list)"
      ],
      "metadata": {
        "colab": {
          "base_uri": "https://localhost:8080/"
        },
        "id": "IT_A7V8lJ_qw",
        "outputId": "d92258e1-0482-48c0-d92c-c4760e1b7756"
      },
      "execution_count": null,
      "outputs": [
        {
          "output_type": "stream",
          "name": "stdout",
          "text": [
            "[1, 'hello', 3, 4]\n"
          ]
        }
      ]
    },
    {
      "cell_type": "markdown",
      "source": [
        "Q)WRITE A PYTHON PROGRAM TO SWAP TWO VARIABLES USING THIRD VARIABLE\n"
      ],
      "metadata": {
        "id": "vH5dIa5lPCir"
      }
    },
    {
      "cell_type": "code",
      "source": [
        "a=int(input(\"enter the first number: \"))\n",
        "b=int(input(\"enter the second number: \"))\n",
        "print(\"before swapping the first number is {} and the second number is {}\".format(a,b))\n",
        "c=a\n",
        "a=b\n",
        "b=c\n",
        "print(\"after swapping the first number is {} and the second number is {}\".format(a,b))\n"
      ],
      "metadata": {
        "colab": {
          "base_uri": "https://localhost:8080/"
        },
        "id": "ehwe4XmiPJHJ",
        "outputId": "ea5d4277-b8a1-4561-c37c-302e8c2edfc9"
      },
      "execution_count": null,
      "outputs": [
        {
          "output_type": "stream",
          "name": "stdout",
          "text": [
            "enter the first number: 1\n",
            "enter the second number: 2\n",
            "before swapping the first number is 1 and the second number is 2\n",
            "after swapping the first number is 2 and the second number is 1\n"
          ]
        }
      ]
    },
    {
      "cell_type": "markdown",
      "source": [
        "Q)WRITE A PYTHON PROGRAM TO SWAP TWO VARIABLES WITHOUT USING THIRD VARIABLE"
      ],
      "metadata": {
        "id": "Z7B55QaOQSeY"
      }
    },
    {
      "cell_type": "code",
      "source": [
        "a=int(input(\"enter the first number: \"))\n",
        "b=int(input(\"enter the second number: \"))\n",
        "print(\"before swapping the first number is {} and the second number is {}\".format(a,b))\n",
        "a=a+b\n",
        "b=a-b\n",
        "a=a-b\n",
        "print(\"after swapping the first number is {} and the second number is {}\".format(a,b))"
      ],
      "metadata": {
        "colab": {
          "base_uri": "https://localhost:8080/"
        },
        "id": "W7D8a58PQSB4",
        "outputId": "9d7f46c5-3510-4223-c7df-44e623a8bd13"
      },
      "execution_count": null,
      "outputs": [
        {
          "output_type": "stream",
          "name": "stdout",
          "text": [
            "enter the first number: 1\n",
            "enter the second number: 2\n",
            "before swapping the first number is 1 and the second number is 2\n",
            "after swapping the first number is 2 and the second number is 1\n"
          ]
        }
      ]
    },
    {
      "cell_type": "markdown",
      "source": [
        "Q) WRITE A PROGRAM TO SWAP 2 NO.'S USING OTHER 2 VARIABLES"
      ],
      "metadata": {
        "id": "J_SQJuv1UWYj"
      }
    },
    {
      "cell_type": "code",
      "source": [
        "a=int(input(\"enter the first number: \"))\n",
        "b=int(input(\"enter the second number: \"))\n",
        "c=b\n",
        "d=a\n",
        "print(\"before swapping the number is {} and {}. After swapping the no. is {} and {}\".format(a,b,c,d))"
      ],
      "metadata": {
        "colab": {
          "base_uri": "https://localhost:8080/"
        },
        "id": "q-o7lSIDS-DC",
        "outputId": "fc5e1560-3ac7-413e-8a2d-517af51c7bb4"
      },
      "execution_count": null,
      "outputs": [
        {
          "output_type": "stream",
          "name": "stdout",
          "text": [
            "enter the first number: 1\n",
            "enter the second number: 2\n",
            "before swapping the number is 1 and 2. After swapping the no. is 2 and 1\n"
          ]
        }
      ]
    },
    {
      "cell_type": "markdown",
      "source": [
        "Q) WRITE A PROGRAM TO CONVERT KM TO MILES"
      ],
      "metadata": {
        "id": "DI4OtYWqVh3E"
      }
    },
    {
      "cell_type": "code",
      "source": [
        "x=float(input(\"enter a no. in km:\"))\n",
        "miles=x*0.621371\n",
        "print(\"%0.3f km is equal to %0.3f miles\"%(x,miles))"
      ],
      "metadata": {
        "colab": {
          "base_uri": "https://localhost:8080/"
        },
        "id": "t3QwyrmNVn0U",
        "outputId": "cab39499-363a-4b11-a8aa-21daff037937"
      },
      "execution_count": null,
      "outputs": [
        {
          "output_type": "stream",
          "name": "stdout",
          "text": [
            "enter a no. in km:10.5\n",
            "10.500 km is equal to 6.524 miles\n"
          ]
        }
      ]
    },
    {
      "cell_type": "markdown",
      "source": [
        "Q) WRITE A PYTHON PROGRAM TO CONVERT SECONDS TO DAY, HOUR, MINUTES AND SECONDS"
      ],
      "metadata": {
        "id": "MbIpNLf1X0gt"
      }
    },
    {
      "cell_type": "code",
      "source": [
        "x=float(input(\"enter the time in seconds: \"))\n",
        "day=x//(24*3600)\n",
        "hour=x//3600\n",
        "print(day,hour)"
      ],
      "metadata": {
        "colab": {
          "base_uri": "https://localhost:8080/"
        },
        "id": "nl5nHYeRYw6Q",
        "outputId": "f791b6d4-b5b7-4182-d9b6-ff99bf0093eb"
      },
      "execution_count": null,
      "outputs": [
        {
          "output_type": "stream",
          "name": "stdout",
          "text": [
            "enter the time in seconds: 172800\n",
            "2.0 48.0\n"
          ]
        }
      ]
    },
    {
      "cell_type": "markdown",
      "source": [
        "Q)WRITE A COMPUTER PROGRAM TO COMPUTE THE DISTANCE BETWEEN THE POINTS(X1,Y1) AND (X2,Y2)"
      ],
      "metadata": {
        "id": "yUzX0mUVZt2y"
      }
    },
    {
      "cell_type": "code",
      "source": [],
      "metadata": {
        "id": "EKwOhmvaZtcz"
      },
      "execution_count": null,
      "outputs": []
    }
  ]
}