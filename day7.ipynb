{
  "nbformat": 4,
  "nbformat_minor": 0,
  "metadata": {
    "colab": {
      "provenance": [],
      "authorship_tag": "ABX9TyPHk7w/HrcFh61BDzPv9tmQ",
      "include_colab_link": true
    },
    "kernelspec": {
      "name": "python3",
      "display_name": "Python 3"
    },
    "language_info": {
      "name": "python"
    }
  },
  "cells": [
    {
      "cell_type": "markdown",
      "metadata": {
        "id": "view-in-github",
        "colab_type": "text"
      },
      "source": [
        "<a href=\"https://colab.research.google.com/github/harsha04h/BASIC-PYTHON/blob/main/day7.ipynb\" target=\"_parent\"><img src=\"https://colab.research.google.com/assets/colab-badge.svg\" alt=\"Open In Colab\"/></a>"
      ]
    },
    {
      "cell_type": "markdown",
      "source": [],
      "metadata": {
        "id": "hGcK1yas72Hs"
      }
    },
    {
      "cell_type": "code",
      "execution_count": 1,
      "metadata": {
        "colab": {
          "base_uri": "https://localhost:8080/"
        },
        "id": "1yMYnpx37yuU",
        "outputId": "166266e6-fa88-4c4c-e019-d41b770ea846"
      },
      "outputs": [
        {
          "output_type": "stream",
          "name": "stdout",
          "text": [
            "hi,i am harsha\n",
            "hello,welcome to niet\n",
            "hello,welcome to niet\n"
          ]
        }
      ],
      "source": [
        "#scope rules\n",
        "global_var=\"hello,welcome to niet\"\n",
        "def func1():\n",
        "  'scope rules'\n",
        "  local_var=\"hi,i am harsha\"\n",
        "  print(local_var)\n",
        "  print(global_var)\n",
        "func1()\n",
        "print(global_var)\n"
      ]
    },
    {
      "cell_type": "code",
      "source": [
        "#recursion\n",
        "def fact(num):\n",
        "  if num==0:\n",
        "    return 1\n",
        "  else:\n",
        "    return num*fact(num-1)\n",
        "n=int(input(\"enter a number:\"))\n",
        "res=fact(n)\n",
        "print(\"the factorial of {} is {}\".format(n,res))\n"
      ],
      "metadata": {
        "colab": {
          "base_uri": "https://localhost:8080/"
        },
        "id": "fbYFJejI8BQo",
        "outputId": "52c81f25-1648-49c2-c9e8-cf44ddf0770f"
      },
      "execution_count": null,
      "outputs": [
        {
          "output_type": "stream",
          "name": "stdout",
          "text": [
            "enter a number:5\n",
            "the factorial of 5 is 120\n"
          ]
        }
      ]
    },
    {
      "cell_type": "code",
      "source": [
        "def fibonacci(n):\n",
        "  if n<=1:\n",
        "    return n\n",
        "  return fibonacci(n-1)+fibonacci(n-2)\n",
        "num_terms=int(input(\"enter a  number: \"))\n",
        "print(f\"fibonacci sequence for {num_terms} terms: \")\n",
        "for i in range(num_terms):\n",
        "  print(fibonacci(i))\n"
      ],
      "metadata": {
        "colab": {
          "base_uri": "https://localhost:8080/"
        },
        "id": "v7SyBOSJBeiZ",
        "outputId": "1c219b6e-c30e-4101-9bd8-97845d9a4de0"
      },
      "execution_count": null,
      "outputs": [
        {
          "output_type": "stream",
          "name": "stdout",
          "text": [
            "enter a  number: 10\n",
            "fibonacci sequence for 10 terms: \n",
            "0\n",
            "1\n",
            "1\n",
            "2\n",
            "3\n",
            "5\n",
            "8\n",
            "13\n",
            "21\n",
            "34\n"
          ]
        }
      ]
    },
    {
      "cell_type": "code",
      "source": [
        "def sum_list(list):\n",
        "  if not list:\n",
        "    return 0\n",
        "  else:\n",
        "    return list[0]+sum_list(list[1:])\n",
        "my_list=[1,2,3,4,5,6]\n",
        "result=sum_list(my_list)\n",
        "print(\"the sum of the list is:\",result)"
      ],
      "metadata": {
        "colab": {
          "base_uri": "https://localhost:8080/"
        },
        "id": "EWR0m1_ECRyp",
        "outputId": "899b4a4c-9bbf-439e-bb6f-02d3ceb2694b"
      },
      "execution_count": null,
      "outputs": [
        {
          "output_type": "stream",
          "name": "stdout",
          "text": [
            "the sum of the list is: 21\n"
          ]
        }
      ]
    },
    {
      "cell_type": "code",
      "source": [
        "#l+length_of_string(s[1:])\n",
        "def length_of_string(s):\n",
        "  if s==\"\":\n",
        "    return 0\n",
        "  else:\n",
        "    return 1+length_of_string(s[1:])\n",
        "input_string=input(\"enter a string:\")\n",
        "length=length_of_string(input_string)\n",
        "print(\"the length of the string is:\",length)\n"
      ],
      "metadata": {
        "colab": {
          "base_uri": "https://localhost:8080/"
        },
        "id": "ChG4V1QiIUfS",
        "outputId": "329763ea-6feb-4a46-df98-b2e5eb6c796d"
      },
      "execution_count": null,
      "outputs": [
        {
          "output_type": "stream",
          "name": "stdout",
          "text": [
            "enter a string:harsha\n",
            "the length of the string is: 6\n"
          ]
        }
      ]
    },
    {
      "cell_type": "code",
      "source": [
        "#base*power(base,exponent-1)\n",
        "def power(base,exponent):\n",
        "  if exponent==0:\n",
        "    return 1\n",
        "  else:\n",
        "    return base*power(base,exponent-1)\n",
        "n=int(input(\"enter a number:\"))\n",
        "p=int(input(\"enter a power:\"))\n",
        "res=power(n,p)\n",
        "print(\"the result is:\",res)"
      ],
      "metadata": {
        "colab": {
          "base_uri": "https://localhost:8080/"
        },
        "id": "hNPuNd4tI7x7",
        "outputId": "957ee78b-eb67-49c1-f07a-beb86bceb824"
      },
      "execution_count": null,
      "outputs": [
        {
          "output_type": "stream",
          "name": "stdout",
          "text": [
            "enter a number:5\n",
            "enter a power:2\n",
            "the result is: 25\n"
          ]
        }
      ]
    },
    {
      "cell_type": "code",
      "source": [
        "def sum_of_numbers(n):\n",
        "  if n==1:\n",
        "    return 1\n",
        "  else:\n",
        "    return n+sum_of_numbers(n-1)\n",
        "num=int(input(\"enter a number:\"))\n",
        "res=sum_of_numbers(num)\n",
        "print(\"the sum of numbers is:\",res)\n"
      ],
      "metadata": {
        "colab": {
          "base_uri": "https://localhost:8080/"
        },
        "id": "WX-IxdhwJImC",
        "outputId": "a019a7a5-b235-471a-86ca-aab185866519"
      },
      "execution_count": null,
      "outputs": [
        {
          "output_type": "stream",
          "name": "stdout",
          "text": [
            "enter a number:5\n",
            "the sum of numbers is: 15\n"
          ]
        }
      ]
    },
    {
      "cell_type": "code",
      "source": [
        "def num(num1,num2):\n",
        "  if num1==num2:\n",
        "    return \"both the no.'s are equal\"\n",
        "  else:\n",
        "    return \"both the no.'s are not equal\"\n",
        "n1=int(input(\"enter a number:\"))\n",
        "n2=int(input(\"enter a number:\"))\n",
        "res=num(n1,n2)\n",
        "print(res)\n"
      ],
      "metadata": {
        "colab": {
          "base_uri": "https://localhost:8080/"
        },
        "id": "Yv7yren-Q5Ls",
        "outputId": "40e0f4f3-c0ec-4047-bf1a-e3bb2dbf521b"
      },
      "execution_count": null,
      "outputs": [
        {
          "output_type": "stream",
          "name": "stdout",
          "text": [
            "enter a number:2\n",
            "enter a number:2\n",
            "both no.'s are equal\n"
          ]
        }
      ]
    },
    {
      "cell_type": "code",
      "source": [
        "def num(num1,num2):\n",
        "  c=num1\n",
        "  num1=num2\n",
        "  num2=c\n",
        "  return num1,num2\n",
        "n1=int(input(\"enter a number:\"))\n",
        "n2=int(input(\"enter a number:\"))\n",
        "res=num(n1,n2)\n",
        "print(\"the numbers after swapping are:\",res)\n"
      ],
      "metadata": {
        "colab": {
          "base_uri": "https://localhost:8080/"
        },
        "id": "DpGp5xlYSINO",
        "outputId": "23ae9c02-bdc4-48ba-8c1d-ebede13c9ae0"
      },
      "execution_count": null,
      "outputs": [
        {
          "output_type": "stream",
          "name": "stdout",
          "text": [
            "enter a number:1\n",
            "enter a number:3\n",
            "the numbers after swapping are: (3, 1)\n"
          ]
        }
      ]
    },
    {
      "cell_type": "code",
      "source": [
        "def fname(ft_name,ln_name, sep=\" \"):\n",
        "  full_name=ft_name+sep+ln_name\n",
        "  return full_name\n",
        "first_name=input(\"enter your first name:\")\n",
        "last_name=input(\"enter your last name:\")\n",
        "res=fname(first_name,last_name)\n",
        "print(f\"the full name of the person is:{res}\")\n"
      ],
      "metadata": {
        "colab": {
          "base_uri": "https://localhost:8080/"
        },
        "id": "H8_WW-VkTjmV",
        "outputId": "bd36c2e9-403f-4db8-a068-f38ba00267b5"
      },
      "execution_count": null,
      "outputs": [
        {
          "output_type": "stream",
          "name": "stdout",
          "text": [
            "enter your first name:harsha\n",
            "enter your last name:hari\n",
            "the full name of the person is:harsha hari\n"
          ]
        }
      ]
    },
    {
      "cell_type": "code",
      "source": [
        "def calc_average(num):\n",
        "  if not num:\n",
        "    return 0\n",
        "  return sum(num)/len(num)\n",
        "my_list=[1,2,3,4,5,6]\n",
        "result=calc_average(my_list)\n",
        "print(\"the average of the list is:\",result)\n"
      ],
      "metadata": {
        "colab": {
          "base_uri": "https://localhost:8080/"
        },
        "id": "khZQFiaCVl4-",
        "outputId": "a48a5716-c9e0-4d73-8d39-c65a9e626635"
      },
      "execution_count": null,
      "outputs": [
        {
          "output_type": "stream",
          "name": "stdout",
          "text": [
            "the average of the list is: 3.5\n"
          ]
        }
      ]
    },
    {
      "cell_type": "code",
      "source": [
        "def min(hours,minutes):\n",
        "  total_minutes=(hours*60)+minutes\n",
        "  return total_minutes\n",
        "h=int(input(\"enter hours:\"))\n",
        "m=int(input(\"enter minutes:\"))\n",
        "res=min(h,m)\n",
        "print(\"the total minutes are:\",res)"
      ],
      "metadata": {
        "colab": {
          "base_uri": "https://localhost:8080/"
        },
        "id": "Fx7t-1bLWqXG",
        "outputId": "418cfdf7-ccb1-4c7b-d88b-1aad69eef3cd"
      },
      "execution_count": null,
      "outputs": [
        {
          "output_type": "stream",
          "name": "stdout",
          "text": [
            "enter hours:2\n",
            "enter minutes:30\n",
            "the total minutes are: 150\n"
          ]
        }
      ]
    },
    {
      "cell_type": "markdown",
      "source": [
        "LAMBDA/ANONYMOUS FUNCTION"
      ],
      "metadata": {
        "id": "xQcqJW7Qymjs"
      }
    },
    {
      "cell_type": "code",
      "source": [
        "result=lambda a,b,c:a+b+c\n",
        "print(result(10,20,30))"
      ],
      "metadata": {
        "colab": {
          "base_uri": "https://localhost:8080/"
        },
        "id": "VCD161Moxm5k",
        "outputId": "c18f62dd-ddff-426b-91b2-bf7f52fee4bf"
      },
      "execution_count": null,
      "outputs": [
        {
          "output_type": "stream",
          "name": "stdout",
          "text": [
            "60\n"
          ]
        }
      ]
    },
    {
      "cell_type": "code",
      "source": [
        "Num = 50\n",
        "if 40<= num <= 60:\n",
        "  print(\"Within range\")"
      ],
      "metadata": {
        "id": "pZoSIhlNWjWw"
      },
      "execution_count": null,
      "outputs": []
    },
    {
      "cell_type": "code",
      "source": [
        "def function(val):\n",
        "   val+=[4]\n",
        "List1=[1,2,3]\n",
        "function(List1)\n",
        "print(List1)"
      ],
      "metadata": {
        "colab": {
          "base_uri": "https://localhost:8080/"
        },
        "id": "u3QWVAy14ar7",
        "outputId": "ae891f34-9e89-4056-a01b-5212fb0a62c4"
      },
      "execution_count": null,
      "outputs": [
        {
          "output_type": "stream",
          "name": "stdout",
          "text": [
            "[1, 2, 3, 4]\n"
          ]
        }
      ]
    },
    {
      "cell_type": "code",
      "source": [
        "y=64\n",
        "while y in {64,32,16,8}:\n",
        "   print(y,end=' ')\n",
        "   y>>=2"
      ],
      "metadata": {
        "colab": {
          "base_uri": "https://localhost:8080/"
        },
        "id": "6iQbg3cs5DVb",
        "outputId": "40003845-2ecc-411f-ba50-0a3f3c2421c2"
      },
      "execution_count": null,
      "outputs": [
        {
          "output_type": "stream",
          "name": "stdout",
          "text": [
            "64 16 "
          ]
        }
      ]
    },
    {
      "cell_type": "code",
      "source": [
        "for i in range(3): # Outer loop\n",
        "   for j in range(2): # Inner loop\n",
        "    print(f\"i={i}, j={j}\")"
      ],
      "metadata": {
        "id": "sYhAkLjfysFT",
        "colab": {
          "base_uri": "https://localhost:8080/"
        },
        "outputId": "4d7f8989-06fc-4499-c231-770dfe8ad86e"
      },
      "execution_count": null,
      "outputs": [
        {
          "output_type": "stream",
          "name": "stdout",
          "text": [
            "i=0, j=0\n",
            "i=0, j=1\n",
            "i=1, j=0\n",
            "i=1, j=1\n",
            "i=2, j=0\n",
            "i=2, j=1\n"
          ]
        }
      ]
    },
    {
      "cell_type": "code",
      "source": [
        "for i in range(5):\n",
        "   if i == 3:\n",
        "     pass # Placeholder for future code\n",
        "   print(i)"
      ],
      "metadata": {
        "colab": {
          "base_uri": "https://localhost:8080/"
        },
        "id": "DfGgvEN42aFu",
        "outputId": "98628feb-f396-482a-b0ee-cf21c86ee85f"
      },
      "execution_count": null,
      "outputs": [
        {
          "output_type": "stream",
          "name": "stdout",
          "text": [
            "0\n",
            "1\n",
            "2\n",
            "3\n",
            "4\n"
          ]
        }
      ]
    },
    {
      "cell_type": "code",
      "source": [
        "def number_type(num):\n",
        "  \"\"\"\n",
        "  Determines if a number is perfect, abundant, or deficient.\n",
        "\n",
        "  Args:\n",
        "    num: The number to check.\n",
        "\n",
        "  Returns:\n",
        "    A string indicating the number type: \"perfect\", \"abundant\", or \"deficient\".\n",
        "  \"\"\"\n",
        "\n",
        "  divisors = [1]  # Include 1 as a divisor\n",
        "\n",
        "  for i in range(2, int(num**0.5) + 1):\n",
        "    if num % i == 0:\n",
        "      divisors.extend([i, num // i])\n",
        "\n",
        "  divisor_sum = sum(divisors)\n",
        "\n",
        "  if divisor_sum == num:\n",
        "    return \"perfect number\"\n",
        "  elif divisor_sum > num:\n",
        "    return \"abundant number\"\n",
        "  else:\n",
        "    return \"deficient number\"\n",
        "\n",
        "# Get input from the user\n",
        "num = int(input(\"Enter a number: \"))\n",
        "\n",
        "# Determine the number type\n",
        "result = number_type(num)\n",
        "\n",
        "# Print the result\n",
        "print(result)"
      ],
      "metadata": {
        "colab": {
          "base_uri": "https://localhost:8080/"
        },
        "id": "ylob9itCMDRe",
        "outputId": "be44124f-14d0-4c6c-bdb5-019f3029704d"
      },
      "execution_count": null,
      "outputs": [
        {
          "output_type": "stream",
          "name": "stdout",
          "text": [
            "Enter a number: 4\n",
            "abundant number\n"
          ]
        }
      ]
    },
    {
      "cell_type": "code",
      "source": [
        "# Get input from the user\n",
        "num = int(input(\"Enter a number: \"))\n",
        "\n",
        "# Check if num is prime\n",
        "is_prime = True\n",
        "if num <= 1:\n",
        "    is_prime = False\n",
        "else:\n",
        "    for i in range(2, int(num**0.5) + 1):\n",
        "        if num % i == 0:\n",
        "            is_prime = False\n",
        "            break\n",
        "\n",
        "# Print the result\n",
        "if is_prime:\n",
        "    print(num, \"is a prime number\")\n",
        "else:\n",
        "    print(num, \"is not a prime number\")"
      ],
      "metadata": {
        "id": "QLx2fr6iZX_r",
        "outputId": "dd6020cc-7e20-4d9b-d751-1e06d0d1e53e",
        "colab": {
          "base_uri": "https://localhost:8080/"
        }
      },
      "execution_count": null,
      "outputs": [
        {
          "output_type": "stream",
          "name": "stdout",
          "text": [
            "Enter a number: 3\n",
            "3 is a prime number\n"
          ]
        }
      ]
    },
    {
      "cell_type": "code",
      "source": [
        "# Create an empty dictionary to store state-capital pairs\n",
        "st2cap = {}\n",
        "\n",
        "# Get the first input state\n",
        "state = input(\"state or 'end' to quit: \")\n",
        "\n",
        "# Continue the loop as long as the input state is not 'end'\n",
        "while state != \"end\":\n",
        "    # Get the corresponding capital for the state\n",
        "    capital = input(\"capital: \")\n",
        "\n",
        "    # Store the state-capital pair in the dictionary\n",
        "    st2cap[state] = capital\n",
        "\n",
        "    # Get the next input state\n",
        "    state = input(\"state or 'end' to quit: \")\n",
        "\n",
        "# Print the dictionary in sorted order\n",
        "print(sorted(st2cap.items()))"
      ],
      "metadata": {
        "id": "d0gDBRvXznah"
      },
      "execution_count": null,
      "outputs": []
    }
  ]
}