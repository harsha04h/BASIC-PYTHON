{
  "nbformat": 4,
  "nbformat_minor": 0,
  "metadata": {
    "colab": {
      "provenance": [],
      "authorship_tag": "ABX9TyPYCdNQ6Wi4hevlvi2w/Fbq",
      "include_colab_link": true
    },
    "kernelspec": {
      "name": "python3",
      "display_name": "Python 3"
    },
    "language_info": {
      "name": "python"
    }
  },
  "cells": [
    {
      "cell_type": "markdown",
      "metadata": {
        "id": "view-in-github",
        "colab_type": "text"
      },
      "source": [
        "<a href=\"https://colab.research.google.com/github/harsha04h/BASIC-PYTHON/blob/main/day5.ipynb\" target=\"_parent\"><img src=\"https://colab.research.google.com/assets/colab-badge.svg\" alt=\"Open In Colab\"/></a>"
      ]
    },
    {
      "cell_type": "code",
      "execution_count": null,
      "metadata": {
        "colab": {
          "base_uri": "https://localhost:8080/"
        },
        "id": "4Y0ER1ixaxiF",
        "outputId": "5be42603-02e1-41b3-afe2-8654f950757c"
      },
      "outputs": [
        {
          "output_type": "stream",
          "name": "stdout",
          "text": [
            "what is the traffic signal?\n",
            "orange\n",
            "unrecognized signal\n"
          ]
        }
      ],
      "source": [
        "signal=input(\"what is the traffic signal?\\n\")\n",
        "if signal==\"red\":\n",
        "  print(\"car has to stop\")\n",
        "elif signal==\"yellow\":\n",
        "  print(\"car has to wait\")\n",
        "elif signal==\"green\":\n",
        "  print(\"car is allowed to go\")\n",
        "else:\n",
        "  print(\"unrecognized signal\")"
      ]
    },
    {
      "cell_type": "markdown",
      "source": [
        "Q) WRITE A PYTHON PROGRAM TO CHECK STUDENTS GRADES\n"
      ],
      "metadata": {
        "id": "NVqnxIU4b2lk"
      }
    },
    {
      "cell_type": "code",
      "source": [
        "name=input(\"enter students name: \").upper()\n",
        "Class=input(\"enter class: \").upper()\n",
        "section=input(\"enter section: \").upper()\n",
        "grade=input(\"enter grade: \").upper()\n",
        "print(\"name: \",name)\n",
        "print(\"class: \",Class)\n",
        "print(\"section: \",section)\n",
        "if grade==\"A\":\n",
        "  print(\"grade: outstanding\")\n",
        "elif grade==\"B\":\n",
        "  print(\"grade: excellent\")\n",
        "elif grade==\"C\":\n",
        "  print(\"grade: very good\")\n",
        "elif grade==\"D\":\n",
        "  print(\"grade: good\")\n",
        "elif grade==\"E\":\n",
        "  print(\"grade: satisafctory\")\n",
        "elif grade==\"F\":\n",
        "  print(\"grade: fail\")\n",
        "else:\n",
        "  print(\"unrecofnized grade\")\n"
      ],
      "metadata": {
        "colab": {
          "base_uri": "https://localhost:8080/"
        },
        "id": "32N4BwqZb09U",
        "outputId": "e4c384a0-5e7b-45c8-ee8d-253204bcfb1e"
      },
      "execution_count": null,
      "outputs": [
        {
          "output_type": "stream",
          "name": "stdout",
          "text": [
            "enter students name: riya\n",
            "enter class: 12\n",
            "enter section: d\n",
            "enter grade: a\n",
            "name:  RIYA\n",
            "class:  12\n",
            "section:  D\n",
            "grade: outstanding\n"
          ]
        }
      ]
    },
    {
      "cell_type": "markdown",
      "source": [
        "**LOOPS**\n",
        "\n",
        "*   LOOPS ARE USED TO EXECUTE BLOCK OF CODE MULTIPLE LINES WITHOUT REWRITING IT\n",
        "\n",
        "\n",
        "\n",
        "\n",
        "\n",
        "---\n",
        "\n"
      ],
      "metadata": {
        "id": "KALASq8geNfe"
      }
    },
    {
      "cell_type": "markdown",
      "source": [
        "Q) WRITE CODE TO PRINT NUMBERS USING WHILE LOOP UNTIL NUMBER LESS THAN OR EQUAL TO 5 IS PRINTED"
      ],
      "metadata": {
        "id": "-kqG3QgVkPJo"
      }
    },
    {
      "cell_type": "code",
      "source": [
        "count=1\n",
        "while count<=5:\n",
        "  print(count)\n",
        "  count+=1\n",
        "else:\n",
        "  print(\"number is greater than 5\")"
      ],
      "metadata": {
        "colab": {
          "base_uri": "https://localhost:8080/"
        },
        "id": "4vjh9WuQeQ7F",
        "outputId": "9cabdb58-b3ac-4022-c180-7d7289cfd3cb"
      },
      "execution_count": null,
      "outputs": [
        {
          "output_type": "stream",
          "name": "stdout",
          "text": [
            "1\n",
            "2\n",
            "3\n",
            "4\n",
            "5\n",
            "number is greater than 5\n"
          ]
        }
      ]
    },
    {
      "cell_type": "code",
      "source": [
        "for i in range(1,6):\n",
        "  print(i)\n",
        "else:\n",
        "  print(\"number is greater than 5\")"
      ],
      "metadata": {
        "colab": {
          "base_uri": "https://localhost:8080/"
        },
        "id": "AiwQ_quRkp3P",
        "outputId": "c42e1639-f8ba-4d32-9153-3f78f45b8c8a"
      },
      "execution_count": null,
      "outputs": [
        {
          "output_type": "stream",
          "name": "stdout",
          "text": [
            "1\n",
            "2\n",
            "3\n",
            "4\n",
            "5\n",
            "number is greater than 5\n"
          ]
        }
      ]
    },
    {
      "cell_type": "markdown",
      "source": [
        "break statement exit the loop immediately"
      ],
      "metadata": {
        "id": "ZsKZxmoerUeh"
      }
    },
    {
      "cell_type": "code",
      "source": [
        "for i in range(5):\n",
        "  if i==4:\n",
        "    break;\n",
        "  print(i)"
      ],
      "metadata": {
        "colab": {
          "base_uri": "https://localhost:8080/"
        },
        "id": "Wkvce0akoHiS",
        "outputId": "414ee832-3a3c-4aec-c656-e1c5fc785815"
      },
      "execution_count": null,
      "outputs": [
        {
          "output_type": "stream",
          "name": "stdout",
          "text": [
            "0\n",
            "1\n",
            "2\n",
            "3\n"
          ]
        }
      ]
    },
    {
      "cell_type": "markdown",
      "source": [
        "continue statement skips the current iteration and moves"
      ],
      "metadata": {
        "id": "K_TnvoJerNUi"
      }
    },
    {
      "cell_type": "code",
      "source": [
        "for i in range(5):\n",
        "  if i==2:\n",
        "    continue\n",
        "  print(i)"
      ],
      "metadata": {
        "colab": {
          "base_uri": "https://localhost:8080/"
        },
        "id": "7KVx2tzmrCSY",
        "outputId": "32cbc47b-d1b1-4995-9bdd-a6cbeb1c2ccf"
      },
      "execution_count": null,
      "outputs": [
        {
          "output_type": "stream",
          "name": "stdout",
          "text": [
            "0\n",
            "1\n",
            "3\n",
            "4\n"
          ]
        }
      ]
    },
    {
      "cell_type": "markdown",
      "source": [
        "pass satement is a placeholder that does nothing,it is used to when a statement a syntactically required"
      ],
      "metadata": {
        "id": "4nHH2vNesUpA"
      }
    },
    {
      "cell_type": "code",
      "source": [
        "for i in range(5):\n",
        "  if i==2:\n",
        "    pass\n",
        "  print(i)"
      ],
      "metadata": {
        "colab": {
          "base_uri": "https://localhost:8080/"
        },
        "id": "HkNh9BvIsxhd",
        "outputId": "7715be61-92be-45bc-8f84-006d8442df5b"
      },
      "execution_count": null,
      "outputs": [
        {
          "output_type": "stream",
          "name": "stdout",
          "text": [
            "0\n",
            "1\n",
            "2\n",
            "3\n",
            "4\n"
          ]
        }
      ]
    },
    {
      "cell_type": "code",
      "source": [
        "Q)WRITE A PROGRAM TO DISPLAY THE MULTIPLICATION TABLE"
      ],
      "metadata": {
        "id": "SdrzjG4ws-1e"
      },
      "execution_count": null,
      "outputs": []
    },
    {
      "cell_type": "code",
      "source": [
        "x=int(input(\"enter a number: \"))\n",
        "for i in range(1,11):\n",
        " print(x,\"x\",i,\"=\",x*i)"
      ],
      "metadata": {
        "colab": {
          "base_uri": "https://localhost:8080/"
        },
        "id": "T_kcxlGwtIgI",
        "outputId": "6cb15c8c-6641-4865-8f1b-b946be202b9f"
      },
      "execution_count": null,
      "outputs": [
        {
          "output_type": "stream",
          "name": "stdout",
          "text": [
            "enter a number: 3\n",
            "3 x 1 = 3\n",
            "3 x 2 = 6\n",
            "3 x 3 = 9\n",
            "3 x 4 = 12\n",
            "3 x 5 = 15\n",
            "3 x 6 = 18\n",
            "3 x 7 = 21\n",
            "3 x 8 = 24\n",
            "3 x 9 = 27\n",
            "3 x 10 = 30\n"
          ]
        }
      ]
    },
    {
      "cell_type": "markdown",
      "source": [
        "Q)WRITE A PROGRAM TO PRINT SUM OF N NATURAL NUMBERS USING WHILE LOOP"
      ],
      "metadata": {
        "id": "IayEbpmkwGyq"
      }
    },
    {
      "cell_type": "code",
      "source": [
        "n=int(input(\"enter the number for which the sum has to be displayed: \"))\n",
        "sum=0\n",
        "i=1\n",
        "while i<=n:\n",
        "  sum=sum+i\n",
        "  i=i+1\n",
        "print(\"sum of first\",n,\"natural numbers is\",sum)\n"
      ],
      "metadata": {
        "colab": {
          "base_uri": "https://localhost:8080/"
        },
        "id": "Jy24aT1ZwTjr",
        "outputId": "9681bbbc-ff63-4dbe-bd00-eae7296f2df5"
      },
      "execution_count": null,
      "outputs": [
        {
          "output_type": "stream",
          "name": "stdout",
          "text": [
            "enter the number for which the sum has to be displayed: 5\n",
            "sum of first 5 natural numbers is 15\n"
          ]
        }
      ]
    },
    {
      "cell_type": "markdown",
      "source": [
        "Q)WRITE A PROGRAM TO CHECK WHETHER A NUMBER IS PRIME NUMBER OR NOT"
      ],
      "metadata": {
        "id": "WTjR58A70EHr"
      }
    },
    {
      "cell_type": "code",
      "source": [
        "num=int(input(\"enter a number: \"))\n",
        "count=0\n",
        "i=1\n",
        "while(i<=num):\n",
        "  if num%i==0:\n",
        "    count=count+1\n",
        "  i=i+1\n",
        "if count==2:\n",
        "  print(\"number is prime\")\n",
        "else:\n",
        "  print(\"number is not prime/composite number\")"
      ],
      "metadata": {
        "colab": {
          "base_uri": "https://localhost:8080/"
        },
        "id": "_7rEqwDM1QLI",
        "outputId": "3c04d778-72d3-420e-f3cd-3bfe25344d96"
      },
      "execution_count": null,
      "outputs": [
        {
          "output_type": "stream",
          "name": "stdout",
          "text": [
            "enter a number: 4\n",
            "number is not prime/composite number\n"
          ]
        }
      ]
    }
  ]
}